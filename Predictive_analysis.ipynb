{
  "nbformat": 4,
  "nbformat_minor": 0,
  "metadata": {
    "colab": {
      "provenance": []
    },
    "kernelspec": {
      "name": "python3",
      "display_name": "Python 3"
    },
    "language_info": {
      "name": "python"
    }
  },
  "cells": [
    {
      "cell_type": "markdown",
      "metadata": {
        "id": "H9wADwK78DCz"
      },
      "source": [
        "# Proyek Predictive Analysis: Student Performance (Multiple Linear Regression)\n",
        "- **Nama:** Bizzati Hanif Raushan Fikri\n",
        "- **Email:** bizzhanif@gmail.com\n",
        "- **ID Dicoding:** MC006D5Y1740\n",
        "\n",
        "\n",
        "- Dataset source : https://www.kaggle.com/datasets/nikhil7280/student-performance-multiple-linear-regression/data"
      ]
    },
    {
      "cell_type": "markdown",
      "source": [
        "## **Project Domain: Predicting Student Performance**\n",
        "\n",
        "Domain projek ini adalah membangun satu **model regresi** tunggal untuk memprediksi *Performance Index* siswa (skor 0–100) berdasarkan berbagai atribut kebiasaan belajar dan demografis, termasuk:\n",
        "\n",
        "* `Hours Studied` (Total waktu belajar siswa sebelum tes)\n",
        "* `Previous Scores` (Nilai tes mahasiswa sebelumnya)\n",
        "* `Sleep Hours` (Rata-rata jam tidur per hari)\n",
        "* `Sample Question Papers Practiced` (Jumlah soal latihan yang dikerjakan)\n",
        "* `Extracurricular Activities` (Partisipasi kegiatan ekstrakurikuler: Yes/No)\n",
        "\n",
        "Tujuannya adalah:\n",
        "\n",
        "* Mengidentifikasi siswa yang memerlukan intervensi khusus\n",
        "* Memahami kontribusi relatif tiap fitur terhadap hasil belajar\n",
        "* Menyediakan rekomendasi kuantitatif untuk peningkatan performa\n",
        "\n",
        "---\n",
        "\n",
        "## **Problem Statements & Goals**\n",
        "\n",
        "**Problem Statement:**\n",
        "\n",
        "> 1. Bagaimana memprediksi *Performance Index* siswa baru berdasarkan kombinasi fitur numerik dan kategorikal di atas?\n",
        "2. Algoritma regresi mana (Linear Regression, Ridge, Lasso) yang memberikan prediksi paling akurat?\n",
        "3. Fitur apa yang krusial dalam meningkatkan performa siswa?\n",
        "\n",
        "**Goal:**\n",
        "\n",
        ">* Membangun satu pipeline regresi yang mencakup pra-pemrosesan (encoding & scaling), pelatihan, dan validasi menggunakan cross-validation.\n",
        "* Mencapai metrik **MAE ≤ 5.0** pada test set.\n",
        "* Menginterpretasi koefisien dan signifikansi fitur, termasuk `extracurricular_activities`.\n",
        "\n",
        "**Solution Statement:**\n",
        "\n",
        "> Implementasi pipeline scikit-learn yang terdiri dari:\n",
        ">\n",
        "> 1. `ColumnTransformer` untuk:\n",
        ">\n",
        ">    * `StandardScaler` pada fitur numerik\n",
        ">    * `OneHotEncoder` (drop-first) pada `extracurricular_activities`\n",
        "> 2. Menggunakan model regresi terbaik dari ketiga model (Linear Regression / Ridge / Lasso) dituning dengan `GridSearchCV` (5-fold CV).\n",
        "> 3. Evaluasi performa akhir pada test set (MAE, R²) dan analisis koefisien untuk seleksi model.\n",
        "> 4. Melakukan analisa feature importance"
      ],
      "metadata": {
        "id": "5mKbT3wUneZF"
      }
    },
    {
      "cell_type": "markdown",
      "source": [
        "## Import library"
      ],
      "metadata": {
        "id": "ILyiF8ISqZGj"
      }
    },
    {
      "cell_type": "code",
      "execution_count": 3,
      "metadata": {
        "id": "w0aKjJcXlic2"
      },
      "outputs": [],
      "source": [
        "# basic analytical tools; EDA, Visualization, etc.\n",
        "import pandas as pd\n",
        "import numpy as np\n",
        "import matplotlib.pyplot as plt\n",
        "\n",
        "# Data preparation and model training\n",
        "from sklearn.model_selection import train_test_split, GridSearchCV, cross_val_score\n",
        "from sklearn.compose import ColumnTransformer\n",
        "from sklearn.preprocessing import OneHotEncoder, StandardScaler\n",
        "from sklearn.pipeline import Pipeline\n",
        "from sklearn.linear_model import Ridge, Lasso, LinearRegression\n",
        "from sklearn.metrics import mean_absolute_error, r2_score"
      ]
    },
    {
      "cell_type": "markdown",
      "source": [
        "## Exploratory Data Analysis (EDA)"
      ],
      "metadata": {
        "id": "sqaBpr2FqnsN"
      }
    },
    {
      "cell_type": "markdown",
      "source": [
        "Load data & cek kebenaran data"
      ],
      "metadata": {
        "id": "35VKP3JhyyZT"
      }
    },
    {
      "cell_type": "code",
      "source": [
        "df = pd.read_csv(\"Student_Performance.csv\")\n",
        "\n",
        "print(\"\\nDataFrame Info:\")\n",
        "print(df.info())\n",
        "df.head()"
      ],
      "metadata": {
        "id": "d7OqA5gRqoPr",
        "colab": {
          "base_uri": "https://localhost:8080/",
          "height": 498
        },
        "outputId": "24fa32de-d841-4fe5-949e-c3ed4871b2cf"
      },
      "execution_count": 5,
      "outputs": [
        {
          "output_type": "stream",
          "name": "stdout",
          "text": [
            "\n",
            "DataFrame Info:\n",
            "<class 'pandas.core.frame.DataFrame'>\n",
            "RangeIndex: 10000 entries, 0 to 9999\n",
            "Data columns (total 6 columns):\n",
            " #   Column                            Non-Null Count  Dtype  \n",
            "---  ------                            --------------  -----  \n",
            " 0   Hours Studied                     10000 non-null  int64  \n",
            " 1   Previous Scores                   10000 non-null  int64  \n",
            " 2   Extracurricular Activities        10000 non-null  object \n",
            " 3   Sleep Hours                       10000 non-null  int64  \n",
            " 4   Sample Question Papers Practiced  10000 non-null  int64  \n",
            " 5   Performance Index                 10000 non-null  float64\n",
            "dtypes: float64(1), int64(4), object(1)\n",
            "memory usage: 468.9+ KB\n",
            "None\n"
          ]
        },
        {
          "output_type": "execute_result",
          "data": {
            "text/plain": [
              "   Hours Studied  Previous Scores Extracurricular Activities  Sleep Hours  \\\n",
              "0              7               99                        Yes            9   \n",
              "1              4               82                         No            4   \n",
              "2              8               51                        Yes            7   \n",
              "3              5               52                        Yes            5   \n",
              "4              7               75                         No            8   \n",
              "\n",
              "   Sample Question Papers Practiced  Performance Index  \n",
              "0                                 1               91.0  \n",
              "1                                 2               65.0  \n",
              "2                                 2               45.0  \n",
              "3                                 2               36.0  \n",
              "4                                 5               66.0  "
            ],
            "text/html": [
              "\n",
              "  <div id=\"df-1c12cc2e-8700-47f1-a625-5685610ce09d\" class=\"colab-df-container\">\n",
              "    <div>\n",
              "<style scoped>\n",
              "    .dataframe tbody tr th:only-of-type {\n",
              "        vertical-align: middle;\n",
              "    }\n",
              "\n",
              "    .dataframe tbody tr th {\n",
              "        vertical-align: top;\n",
              "    }\n",
              "\n",
              "    .dataframe thead th {\n",
              "        text-align: right;\n",
              "    }\n",
              "</style>\n",
              "<table border=\"1\" class=\"dataframe\">\n",
              "  <thead>\n",
              "    <tr style=\"text-align: right;\">\n",
              "      <th></th>\n",
              "      <th>Hours Studied</th>\n",
              "      <th>Previous Scores</th>\n",
              "      <th>Extracurricular Activities</th>\n",
              "      <th>Sleep Hours</th>\n",
              "      <th>Sample Question Papers Practiced</th>\n",
              "      <th>Performance Index</th>\n",
              "    </tr>\n",
              "  </thead>\n",
              "  <tbody>\n",
              "    <tr>\n",
              "      <th>0</th>\n",
              "      <td>7</td>\n",
              "      <td>99</td>\n",
              "      <td>Yes</td>\n",
              "      <td>9</td>\n",
              "      <td>1</td>\n",
              "      <td>91.0</td>\n",
              "    </tr>\n",
              "    <tr>\n",
              "      <th>1</th>\n",
              "      <td>4</td>\n",
              "      <td>82</td>\n",
              "      <td>No</td>\n",
              "      <td>4</td>\n",
              "      <td>2</td>\n",
              "      <td>65.0</td>\n",
              "    </tr>\n",
              "    <tr>\n",
              "      <th>2</th>\n",
              "      <td>8</td>\n",
              "      <td>51</td>\n",
              "      <td>Yes</td>\n",
              "      <td>7</td>\n",
              "      <td>2</td>\n",
              "      <td>45.0</td>\n",
              "    </tr>\n",
              "    <tr>\n",
              "      <th>3</th>\n",
              "      <td>5</td>\n",
              "      <td>52</td>\n",
              "      <td>Yes</td>\n",
              "      <td>5</td>\n",
              "      <td>2</td>\n",
              "      <td>36.0</td>\n",
              "    </tr>\n",
              "    <tr>\n",
              "      <th>4</th>\n",
              "      <td>7</td>\n",
              "      <td>75</td>\n",
              "      <td>No</td>\n",
              "      <td>8</td>\n",
              "      <td>5</td>\n",
              "      <td>66.0</td>\n",
              "    </tr>\n",
              "  </tbody>\n",
              "</table>\n",
              "</div>\n",
              "    <div class=\"colab-df-buttons\">\n",
              "\n",
              "  <div class=\"colab-df-container\">\n",
              "    <button class=\"colab-df-convert\" onclick=\"convertToInteractive('df-1c12cc2e-8700-47f1-a625-5685610ce09d')\"\n",
              "            title=\"Convert this dataframe to an interactive table.\"\n",
              "            style=\"display:none;\">\n",
              "\n",
              "  <svg xmlns=\"http://www.w3.org/2000/svg\" height=\"24px\" viewBox=\"0 -960 960 960\">\n",
              "    <path d=\"M120-120v-720h720v720H120Zm60-500h600v-160H180v160Zm220 220h160v-160H400v160Zm0 220h160v-160H400v160ZM180-400h160v-160H180v160Zm440 0h160v-160H620v160ZM180-180h160v-160H180v160Zm440 0h160v-160H620v160Z\"/>\n",
              "  </svg>\n",
              "    </button>\n",
              "\n",
              "  <style>\n",
              "    .colab-df-container {\n",
              "      display:flex;\n",
              "      gap: 12px;\n",
              "    }\n",
              "\n",
              "    .colab-df-convert {\n",
              "      background-color: #E8F0FE;\n",
              "      border: none;\n",
              "      border-radius: 50%;\n",
              "      cursor: pointer;\n",
              "      display: none;\n",
              "      fill: #1967D2;\n",
              "      height: 32px;\n",
              "      padding: 0 0 0 0;\n",
              "      width: 32px;\n",
              "    }\n",
              "\n",
              "    .colab-df-convert:hover {\n",
              "      background-color: #E2EBFA;\n",
              "      box-shadow: 0px 1px 2px rgba(60, 64, 67, 0.3), 0px 1px 3px 1px rgba(60, 64, 67, 0.15);\n",
              "      fill: #174EA6;\n",
              "    }\n",
              "\n",
              "    .colab-df-buttons div {\n",
              "      margin-bottom: 4px;\n",
              "    }\n",
              "\n",
              "    [theme=dark] .colab-df-convert {\n",
              "      background-color: #3B4455;\n",
              "      fill: #D2E3FC;\n",
              "    }\n",
              "\n",
              "    [theme=dark] .colab-df-convert:hover {\n",
              "      background-color: #434B5C;\n",
              "      box-shadow: 0px 1px 3px 1px rgba(0, 0, 0, 0.15);\n",
              "      filter: drop-shadow(0px 1px 2px rgba(0, 0, 0, 0.3));\n",
              "      fill: #FFFFFF;\n",
              "    }\n",
              "  </style>\n",
              "\n",
              "    <script>\n",
              "      const buttonEl =\n",
              "        document.querySelector('#df-1c12cc2e-8700-47f1-a625-5685610ce09d button.colab-df-convert');\n",
              "      buttonEl.style.display =\n",
              "        google.colab.kernel.accessAllowed ? 'block' : 'none';\n",
              "\n",
              "      async function convertToInteractive(key) {\n",
              "        const element = document.querySelector('#df-1c12cc2e-8700-47f1-a625-5685610ce09d');\n",
              "        const dataTable =\n",
              "          await google.colab.kernel.invokeFunction('convertToInteractive',\n",
              "                                                    [key], {});\n",
              "        if (!dataTable) return;\n",
              "\n",
              "        const docLinkHtml = 'Like what you see? Visit the ' +\n",
              "          '<a target=\"_blank\" href=https://colab.research.google.com/notebooks/data_table.ipynb>data table notebook</a>'\n",
              "          + ' to learn more about interactive tables.';\n",
              "        element.innerHTML = '';\n",
              "        dataTable['output_type'] = 'display_data';\n",
              "        await google.colab.output.renderOutput(dataTable, element);\n",
              "        const docLink = document.createElement('div');\n",
              "        docLink.innerHTML = docLinkHtml;\n",
              "        element.appendChild(docLink);\n",
              "      }\n",
              "    </script>\n",
              "  </div>\n",
              "\n",
              "\n",
              "    <div id=\"df-5ba52dc7-da9b-488d-a22d-101ec4e74812\">\n",
              "      <button class=\"colab-df-quickchart\" onclick=\"quickchart('df-5ba52dc7-da9b-488d-a22d-101ec4e74812')\"\n",
              "                title=\"Suggest charts\"\n",
              "                style=\"display:none;\">\n",
              "\n",
              "<svg xmlns=\"http://www.w3.org/2000/svg\" height=\"24px\"viewBox=\"0 0 24 24\"\n",
              "     width=\"24px\">\n",
              "    <g>\n",
              "        <path d=\"M19 3H5c-1.1 0-2 .9-2 2v14c0 1.1.9 2 2 2h14c1.1 0 2-.9 2-2V5c0-1.1-.9-2-2-2zM9 17H7v-7h2v7zm4 0h-2V7h2v10zm4 0h-2v-4h2v4z\"/>\n",
              "    </g>\n",
              "</svg>\n",
              "      </button>\n",
              "\n",
              "<style>\n",
              "  .colab-df-quickchart {\n",
              "      --bg-color: #E8F0FE;\n",
              "      --fill-color: #1967D2;\n",
              "      --hover-bg-color: #E2EBFA;\n",
              "      --hover-fill-color: #174EA6;\n",
              "      --disabled-fill-color: #AAA;\n",
              "      --disabled-bg-color: #DDD;\n",
              "  }\n",
              "\n",
              "  [theme=dark] .colab-df-quickchart {\n",
              "      --bg-color: #3B4455;\n",
              "      --fill-color: #D2E3FC;\n",
              "      --hover-bg-color: #434B5C;\n",
              "      --hover-fill-color: #FFFFFF;\n",
              "      --disabled-bg-color: #3B4455;\n",
              "      --disabled-fill-color: #666;\n",
              "  }\n",
              "\n",
              "  .colab-df-quickchart {\n",
              "    background-color: var(--bg-color);\n",
              "    border: none;\n",
              "    border-radius: 50%;\n",
              "    cursor: pointer;\n",
              "    display: none;\n",
              "    fill: var(--fill-color);\n",
              "    height: 32px;\n",
              "    padding: 0;\n",
              "    width: 32px;\n",
              "  }\n",
              "\n",
              "  .colab-df-quickchart:hover {\n",
              "    background-color: var(--hover-bg-color);\n",
              "    box-shadow: 0 1px 2px rgba(60, 64, 67, 0.3), 0 1px 3px 1px rgba(60, 64, 67, 0.15);\n",
              "    fill: var(--button-hover-fill-color);\n",
              "  }\n",
              "\n",
              "  .colab-df-quickchart-complete:disabled,\n",
              "  .colab-df-quickchart-complete:disabled:hover {\n",
              "    background-color: var(--disabled-bg-color);\n",
              "    fill: var(--disabled-fill-color);\n",
              "    box-shadow: none;\n",
              "  }\n",
              "\n",
              "  .colab-df-spinner {\n",
              "    border: 2px solid var(--fill-color);\n",
              "    border-color: transparent;\n",
              "    border-bottom-color: var(--fill-color);\n",
              "    animation:\n",
              "      spin 1s steps(1) infinite;\n",
              "  }\n",
              "\n",
              "  @keyframes spin {\n",
              "    0% {\n",
              "      border-color: transparent;\n",
              "      border-bottom-color: var(--fill-color);\n",
              "      border-left-color: var(--fill-color);\n",
              "    }\n",
              "    20% {\n",
              "      border-color: transparent;\n",
              "      border-left-color: var(--fill-color);\n",
              "      border-top-color: var(--fill-color);\n",
              "    }\n",
              "    30% {\n",
              "      border-color: transparent;\n",
              "      border-left-color: var(--fill-color);\n",
              "      border-top-color: var(--fill-color);\n",
              "      border-right-color: var(--fill-color);\n",
              "    }\n",
              "    40% {\n",
              "      border-color: transparent;\n",
              "      border-right-color: var(--fill-color);\n",
              "      border-top-color: var(--fill-color);\n",
              "    }\n",
              "    60% {\n",
              "      border-color: transparent;\n",
              "      border-right-color: var(--fill-color);\n",
              "    }\n",
              "    80% {\n",
              "      border-color: transparent;\n",
              "      border-right-color: var(--fill-color);\n",
              "      border-bottom-color: var(--fill-color);\n",
              "    }\n",
              "    90% {\n",
              "      border-color: transparent;\n",
              "      border-bottom-color: var(--fill-color);\n",
              "    }\n",
              "  }\n",
              "</style>\n",
              "\n",
              "      <script>\n",
              "        async function quickchart(key) {\n",
              "          const quickchartButtonEl =\n",
              "            document.querySelector('#' + key + ' button');\n",
              "          quickchartButtonEl.disabled = true;  // To prevent multiple clicks.\n",
              "          quickchartButtonEl.classList.add('colab-df-spinner');\n",
              "          try {\n",
              "            const charts = await google.colab.kernel.invokeFunction(\n",
              "                'suggestCharts', [key], {});\n",
              "          } catch (error) {\n",
              "            console.error('Error during call to suggestCharts:', error);\n",
              "          }\n",
              "          quickchartButtonEl.classList.remove('colab-df-spinner');\n",
              "          quickchartButtonEl.classList.add('colab-df-quickchart-complete');\n",
              "        }\n",
              "        (() => {\n",
              "          let quickchartButtonEl =\n",
              "            document.querySelector('#df-5ba52dc7-da9b-488d-a22d-101ec4e74812 button');\n",
              "          quickchartButtonEl.style.display =\n",
              "            google.colab.kernel.accessAllowed ? 'block' : 'none';\n",
              "        })();\n",
              "      </script>\n",
              "    </div>\n",
              "\n",
              "    </div>\n",
              "  </div>\n"
            ],
            "application/vnd.google.colaboratory.intrinsic+json": {
              "type": "dataframe",
              "variable_name": "df",
              "summary": "{\n  \"name\": \"df\",\n  \"rows\": 10000,\n  \"fields\": [\n    {\n      \"column\": \"Hours Studied\",\n      \"properties\": {\n        \"dtype\": \"number\",\n        \"std\": 2,\n        \"min\": 1,\n        \"max\": 9,\n        \"num_unique_values\": 9,\n        \"samples\": [\n          1,\n          4,\n          6\n        ],\n        \"semantic_type\": \"\",\n        \"description\": \"\"\n      }\n    },\n    {\n      \"column\": \"Previous Scores\",\n      \"properties\": {\n        \"dtype\": \"number\",\n        \"std\": 17,\n        \"min\": 40,\n        \"max\": 99,\n        \"num_unique_values\": 60,\n        \"samples\": [\n          99,\n          78,\n          93\n        ],\n        \"semantic_type\": \"\",\n        \"description\": \"\"\n      }\n    },\n    {\n      \"column\": \"Extracurricular Activities\",\n      \"properties\": {\n        \"dtype\": \"category\",\n        \"num_unique_values\": 2,\n        \"samples\": [\n          \"No\",\n          \"Yes\"\n        ],\n        \"semantic_type\": \"\",\n        \"description\": \"\"\n      }\n    },\n    {\n      \"column\": \"Sleep Hours\",\n      \"properties\": {\n        \"dtype\": \"number\",\n        \"std\": 1,\n        \"min\": 4,\n        \"max\": 9,\n        \"num_unique_values\": 6,\n        \"samples\": [\n          9,\n          4\n        ],\n        \"semantic_type\": \"\",\n        \"description\": \"\"\n      }\n    },\n    {\n      \"column\": \"Sample Question Papers Practiced\",\n      \"properties\": {\n        \"dtype\": \"number\",\n        \"std\": 2,\n        \"min\": 0,\n        \"max\": 9,\n        \"num_unique_values\": 10,\n        \"samples\": [\n          9,\n          2\n        ],\n        \"semantic_type\": \"\",\n        \"description\": \"\"\n      }\n    },\n    {\n      \"column\": \"Performance Index\",\n      \"properties\": {\n        \"dtype\": \"number\",\n        \"std\": 19.212557799463323,\n        \"min\": 10.0,\n        \"max\": 100.0,\n        \"num_unique_values\": 91,\n        \"samples\": [\n          41.0,\n          49.0\n        ],\n        \"semantic_type\": \"\",\n        \"description\": \"\"\n      }\n    }\n  ]\n}"
            }
          },
          "metadata": {},
          "execution_count": 5
        }
      ]
    },
    {
      "cell_type": "markdown",
      "source": [
        "Cek statistika umum dataset"
      ],
      "metadata": {
        "id": "nRPPXmKBP1nP"
      }
    },
    {
      "cell_type": "code",
      "source": [
        "df.describe()"
      ],
      "metadata": {
        "colab": {
          "base_uri": "https://localhost:8080/",
          "height": 300
        },
        "id": "czQfIQtyPyvn",
        "outputId": "43eccbea-cab9-4f4b-939b-01f999d93fdd"
      },
      "execution_count": 6,
      "outputs": [
        {
          "output_type": "execute_result",
          "data": {
            "text/plain": [
              "       Hours Studied  Previous Scores   Sleep Hours  \\\n",
              "count   10000.000000     10000.000000  10000.000000   \n",
              "mean        4.992900        69.445700      6.530600   \n",
              "std         2.589309        17.343152      1.695863   \n",
              "min         1.000000        40.000000      4.000000   \n",
              "25%         3.000000        54.000000      5.000000   \n",
              "50%         5.000000        69.000000      7.000000   \n",
              "75%         7.000000        85.000000      8.000000   \n",
              "max         9.000000        99.000000      9.000000   \n",
              "\n",
              "       Sample Question Papers Practiced  Performance Index  \n",
              "count                      10000.000000       10000.000000  \n",
              "mean                           4.583300          55.224800  \n",
              "std                            2.867348          19.212558  \n",
              "min                            0.000000          10.000000  \n",
              "25%                            2.000000          40.000000  \n",
              "50%                            5.000000          55.000000  \n",
              "75%                            7.000000          71.000000  \n",
              "max                            9.000000         100.000000  "
            ],
            "text/html": [
              "\n",
              "  <div id=\"df-bb2a68ab-e1a7-4e38-b5f1-69207da7dd43\" class=\"colab-df-container\">\n",
              "    <div>\n",
              "<style scoped>\n",
              "    .dataframe tbody tr th:only-of-type {\n",
              "        vertical-align: middle;\n",
              "    }\n",
              "\n",
              "    .dataframe tbody tr th {\n",
              "        vertical-align: top;\n",
              "    }\n",
              "\n",
              "    .dataframe thead th {\n",
              "        text-align: right;\n",
              "    }\n",
              "</style>\n",
              "<table border=\"1\" class=\"dataframe\">\n",
              "  <thead>\n",
              "    <tr style=\"text-align: right;\">\n",
              "      <th></th>\n",
              "      <th>Hours Studied</th>\n",
              "      <th>Previous Scores</th>\n",
              "      <th>Sleep Hours</th>\n",
              "      <th>Sample Question Papers Practiced</th>\n",
              "      <th>Performance Index</th>\n",
              "    </tr>\n",
              "  </thead>\n",
              "  <tbody>\n",
              "    <tr>\n",
              "      <th>count</th>\n",
              "      <td>10000.000000</td>\n",
              "      <td>10000.000000</td>\n",
              "      <td>10000.000000</td>\n",
              "      <td>10000.000000</td>\n",
              "      <td>10000.000000</td>\n",
              "    </tr>\n",
              "    <tr>\n",
              "      <th>mean</th>\n",
              "      <td>4.992900</td>\n",
              "      <td>69.445700</td>\n",
              "      <td>6.530600</td>\n",
              "      <td>4.583300</td>\n",
              "      <td>55.224800</td>\n",
              "    </tr>\n",
              "    <tr>\n",
              "      <th>std</th>\n",
              "      <td>2.589309</td>\n",
              "      <td>17.343152</td>\n",
              "      <td>1.695863</td>\n",
              "      <td>2.867348</td>\n",
              "      <td>19.212558</td>\n",
              "    </tr>\n",
              "    <tr>\n",
              "      <th>min</th>\n",
              "      <td>1.000000</td>\n",
              "      <td>40.000000</td>\n",
              "      <td>4.000000</td>\n",
              "      <td>0.000000</td>\n",
              "      <td>10.000000</td>\n",
              "    </tr>\n",
              "    <tr>\n",
              "      <th>25%</th>\n",
              "      <td>3.000000</td>\n",
              "      <td>54.000000</td>\n",
              "      <td>5.000000</td>\n",
              "      <td>2.000000</td>\n",
              "      <td>40.000000</td>\n",
              "    </tr>\n",
              "    <tr>\n",
              "      <th>50%</th>\n",
              "      <td>5.000000</td>\n",
              "      <td>69.000000</td>\n",
              "      <td>7.000000</td>\n",
              "      <td>5.000000</td>\n",
              "      <td>55.000000</td>\n",
              "    </tr>\n",
              "    <tr>\n",
              "      <th>75%</th>\n",
              "      <td>7.000000</td>\n",
              "      <td>85.000000</td>\n",
              "      <td>8.000000</td>\n",
              "      <td>7.000000</td>\n",
              "      <td>71.000000</td>\n",
              "    </tr>\n",
              "    <tr>\n",
              "      <th>max</th>\n",
              "      <td>9.000000</td>\n",
              "      <td>99.000000</td>\n",
              "      <td>9.000000</td>\n",
              "      <td>9.000000</td>\n",
              "      <td>100.000000</td>\n",
              "    </tr>\n",
              "  </tbody>\n",
              "</table>\n",
              "</div>\n",
              "    <div class=\"colab-df-buttons\">\n",
              "\n",
              "  <div class=\"colab-df-container\">\n",
              "    <button class=\"colab-df-convert\" onclick=\"convertToInteractive('df-bb2a68ab-e1a7-4e38-b5f1-69207da7dd43')\"\n",
              "            title=\"Convert this dataframe to an interactive table.\"\n",
              "            style=\"display:none;\">\n",
              "\n",
              "  <svg xmlns=\"http://www.w3.org/2000/svg\" height=\"24px\" viewBox=\"0 -960 960 960\">\n",
              "    <path d=\"M120-120v-720h720v720H120Zm60-500h600v-160H180v160Zm220 220h160v-160H400v160Zm0 220h160v-160H400v160ZM180-400h160v-160H180v160Zm440 0h160v-160H620v160ZM180-180h160v-160H180v160Zm440 0h160v-160H620v160Z\"/>\n",
              "  </svg>\n",
              "    </button>\n",
              "\n",
              "  <style>\n",
              "    .colab-df-container {\n",
              "      display:flex;\n",
              "      gap: 12px;\n",
              "    }\n",
              "\n",
              "    .colab-df-convert {\n",
              "      background-color: #E8F0FE;\n",
              "      border: none;\n",
              "      border-radius: 50%;\n",
              "      cursor: pointer;\n",
              "      display: none;\n",
              "      fill: #1967D2;\n",
              "      height: 32px;\n",
              "      padding: 0 0 0 0;\n",
              "      width: 32px;\n",
              "    }\n",
              "\n",
              "    .colab-df-convert:hover {\n",
              "      background-color: #E2EBFA;\n",
              "      box-shadow: 0px 1px 2px rgba(60, 64, 67, 0.3), 0px 1px 3px 1px rgba(60, 64, 67, 0.15);\n",
              "      fill: #174EA6;\n",
              "    }\n",
              "\n",
              "    .colab-df-buttons div {\n",
              "      margin-bottom: 4px;\n",
              "    }\n",
              "\n",
              "    [theme=dark] .colab-df-convert {\n",
              "      background-color: #3B4455;\n",
              "      fill: #D2E3FC;\n",
              "    }\n",
              "\n",
              "    [theme=dark] .colab-df-convert:hover {\n",
              "      background-color: #434B5C;\n",
              "      box-shadow: 0px 1px 3px 1px rgba(0, 0, 0, 0.15);\n",
              "      filter: drop-shadow(0px 1px 2px rgba(0, 0, 0, 0.3));\n",
              "      fill: #FFFFFF;\n",
              "    }\n",
              "  </style>\n",
              "\n",
              "    <script>\n",
              "      const buttonEl =\n",
              "        document.querySelector('#df-bb2a68ab-e1a7-4e38-b5f1-69207da7dd43 button.colab-df-convert');\n",
              "      buttonEl.style.display =\n",
              "        google.colab.kernel.accessAllowed ? 'block' : 'none';\n",
              "\n",
              "      async function convertToInteractive(key) {\n",
              "        const element = document.querySelector('#df-bb2a68ab-e1a7-4e38-b5f1-69207da7dd43');\n",
              "        const dataTable =\n",
              "          await google.colab.kernel.invokeFunction('convertToInteractive',\n",
              "                                                    [key], {});\n",
              "        if (!dataTable) return;\n",
              "\n",
              "        const docLinkHtml = 'Like what you see? Visit the ' +\n",
              "          '<a target=\"_blank\" href=https://colab.research.google.com/notebooks/data_table.ipynb>data table notebook</a>'\n",
              "          + ' to learn more about interactive tables.';\n",
              "        element.innerHTML = '';\n",
              "        dataTable['output_type'] = 'display_data';\n",
              "        await google.colab.output.renderOutput(dataTable, element);\n",
              "        const docLink = document.createElement('div');\n",
              "        docLink.innerHTML = docLinkHtml;\n",
              "        element.appendChild(docLink);\n",
              "      }\n",
              "    </script>\n",
              "  </div>\n",
              "\n",
              "\n",
              "    <div id=\"df-1ddfb01f-2087-4d3d-bc12-b4c6497be11e\">\n",
              "      <button class=\"colab-df-quickchart\" onclick=\"quickchart('df-1ddfb01f-2087-4d3d-bc12-b4c6497be11e')\"\n",
              "                title=\"Suggest charts\"\n",
              "                style=\"display:none;\">\n",
              "\n",
              "<svg xmlns=\"http://www.w3.org/2000/svg\" height=\"24px\"viewBox=\"0 0 24 24\"\n",
              "     width=\"24px\">\n",
              "    <g>\n",
              "        <path d=\"M19 3H5c-1.1 0-2 .9-2 2v14c0 1.1.9 2 2 2h14c1.1 0 2-.9 2-2V5c0-1.1-.9-2-2-2zM9 17H7v-7h2v7zm4 0h-2V7h2v10zm4 0h-2v-4h2v4z\"/>\n",
              "    </g>\n",
              "</svg>\n",
              "      </button>\n",
              "\n",
              "<style>\n",
              "  .colab-df-quickchart {\n",
              "      --bg-color: #E8F0FE;\n",
              "      --fill-color: #1967D2;\n",
              "      --hover-bg-color: #E2EBFA;\n",
              "      --hover-fill-color: #174EA6;\n",
              "      --disabled-fill-color: #AAA;\n",
              "      --disabled-bg-color: #DDD;\n",
              "  }\n",
              "\n",
              "  [theme=dark] .colab-df-quickchart {\n",
              "      --bg-color: #3B4455;\n",
              "      --fill-color: #D2E3FC;\n",
              "      --hover-bg-color: #434B5C;\n",
              "      --hover-fill-color: #FFFFFF;\n",
              "      --disabled-bg-color: #3B4455;\n",
              "      --disabled-fill-color: #666;\n",
              "  }\n",
              "\n",
              "  .colab-df-quickchart {\n",
              "    background-color: var(--bg-color);\n",
              "    border: none;\n",
              "    border-radius: 50%;\n",
              "    cursor: pointer;\n",
              "    display: none;\n",
              "    fill: var(--fill-color);\n",
              "    height: 32px;\n",
              "    padding: 0;\n",
              "    width: 32px;\n",
              "  }\n",
              "\n",
              "  .colab-df-quickchart:hover {\n",
              "    background-color: var(--hover-bg-color);\n",
              "    box-shadow: 0 1px 2px rgba(60, 64, 67, 0.3), 0 1px 3px 1px rgba(60, 64, 67, 0.15);\n",
              "    fill: var(--button-hover-fill-color);\n",
              "  }\n",
              "\n",
              "  .colab-df-quickchart-complete:disabled,\n",
              "  .colab-df-quickchart-complete:disabled:hover {\n",
              "    background-color: var(--disabled-bg-color);\n",
              "    fill: var(--disabled-fill-color);\n",
              "    box-shadow: none;\n",
              "  }\n",
              "\n",
              "  .colab-df-spinner {\n",
              "    border: 2px solid var(--fill-color);\n",
              "    border-color: transparent;\n",
              "    border-bottom-color: var(--fill-color);\n",
              "    animation:\n",
              "      spin 1s steps(1) infinite;\n",
              "  }\n",
              "\n",
              "  @keyframes spin {\n",
              "    0% {\n",
              "      border-color: transparent;\n",
              "      border-bottom-color: var(--fill-color);\n",
              "      border-left-color: var(--fill-color);\n",
              "    }\n",
              "    20% {\n",
              "      border-color: transparent;\n",
              "      border-left-color: var(--fill-color);\n",
              "      border-top-color: var(--fill-color);\n",
              "    }\n",
              "    30% {\n",
              "      border-color: transparent;\n",
              "      border-left-color: var(--fill-color);\n",
              "      border-top-color: var(--fill-color);\n",
              "      border-right-color: var(--fill-color);\n",
              "    }\n",
              "    40% {\n",
              "      border-color: transparent;\n",
              "      border-right-color: var(--fill-color);\n",
              "      border-top-color: var(--fill-color);\n",
              "    }\n",
              "    60% {\n",
              "      border-color: transparent;\n",
              "      border-right-color: var(--fill-color);\n",
              "    }\n",
              "    80% {\n",
              "      border-color: transparent;\n",
              "      border-right-color: var(--fill-color);\n",
              "      border-bottom-color: var(--fill-color);\n",
              "    }\n",
              "    90% {\n",
              "      border-color: transparent;\n",
              "      border-bottom-color: var(--fill-color);\n",
              "    }\n",
              "  }\n",
              "</style>\n",
              "\n",
              "      <script>\n",
              "        async function quickchart(key) {\n",
              "          const quickchartButtonEl =\n",
              "            document.querySelector('#' + key + ' button');\n",
              "          quickchartButtonEl.disabled = true;  // To prevent multiple clicks.\n",
              "          quickchartButtonEl.classList.add('colab-df-spinner');\n",
              "          try {\n",
              "            const charts = await google.colab.kernel.invokeFunction(\n",
              "                'suggestCharts', [key], {});\n",
              "          } catch (error) {\n",
              "            console.error('Error during call to suggestCharts:', error);\n",
              "          }\n",
              "          quickchartButtonEl.classList.remove('colab-df-spinner');\n",
              "          quickchartButtonEl.classList.add('colab-df-quickchart-complete');\n",
              "        }\n",
              "        (() => {\n",
              "          let quickchartButtonEl =\n",
              "            document.querySelector('#df-1ddfb01f-2087-4d3d-bc12-b4c6497be11e button');\n",
              "          quickchartButtonEl.style.display =\n",
              "            google.colab.kernel.accessAllowed ? 'block' : 'none';\n",
              "        })();\n",
              "      </script>\n",
              "    </div>\n",
              "\n",
              "    </div>\n",
              "  </div>\n"
            ],
            "application/vnd.google.colaboratory.intrinsic+json": {
              "type": "dataframe",
              "summary": "{\n  \"name\": \"df\",\n  \"rows\": 8,\n  \"fields\": [\n    {\n      \"column\": \"Hours Studied\",\n      \"properties\": {\n        \"dtype\": \"number\",\n        \"std\": 3533.8891649597354,\n        \"min\": 1.0,\n        \"max\": 10000.0,\n        \"num_unique_values\": 8,\n        \"samples\": [\n          4.9929,\n          5.0,\n          10000.0\n        ],\n        \"semantic_type\": \"\",\n        \"description\": \"\"\n      }\n    },\n    {\n      \"column\": \"Previous Scores\",\n      \"properties\": {\n        \"dtype\": \"number\",\n        \"std\": 3513.716647725204,\n        \"min\": 17.343152251047066,\n        \"max\": 10000.0,\n        \"num_unique_values\": 8,\n        \"samples\": [\n          69.4457,\n          69.0,\n          10000.0\n        ],\n        \"semantic_type\": \"\",\n        \"description\": \"\"\n      }\n    },\n    {\n      \"column\": \"Sleep Hours\",\n      \"properties\": {\n        \"dtype\": \"number\",\n        \"std\": 3533.4524176502773,\n        \"min\": 1.6958629765176023,\n        \"max\": 10000.0,\n        \"num_unique_values\": 8,\n        \"samples\": [\n          6.5306,\n          7.0,\n          10000.0\n        ],\n        \"semantic_type\": \"\",\n        \"description\": \"\"\n      }\n    },\n    {\n      \"column\": \"Sample Question Papers Practiced\",\n      \"properties\": {\n        \"dtype\": \"number\",\n        \"std\": 3533.9970430829685,\n        \"min\": 0.0,\n        \"max\": 10000.0,\n        \"num_unique_values\": 8,\n        \"samples\": [\n          4.5833,\n          5.0,\n          10000.0\n        ],\n        \"semantic_type\": \"\",\n        \"description\": \"\"\n      }\n    },\n    {\n      \"column\": \"Performance Index\",\n      \"properties\": {\n        \"dtype\": \"number\",\n        \"std\": 3517.948686251608,\n        \"min\": 10.0,\n        \"max\": 10000.0,\n        \"num_unique_values\": 8,\n        \"samples\": [\n          55.2248,\n          55.0,\n          10000.0\n        ],\n        \"semantic_type\": \"\",\n        \"description\": \"\"\n      }\n    }\n  ]\n}"
            }
          },
          "metadata": {},
          "execution_count": 6
        }
      ]
    },
    {
      "cell_type": "markdown",
      "source": [
        "Memvisualisasikan distribusi data masing-masing kelas:\n",
        "1. Menampilkan plot histogram dari seluruh data `numeric_cols` (fitur numerik)\n",
        "2. Menampilkan pie chart dari fitur `Extracurricular Activities` sebagai fitur kategorikal sendiri"
      ],
      "metadata": {
        "id": "-w8TPRuL3L9R"
      }
    },
    {
      "cell_type": "code",
      "source": [
        "numeric_cols = df.select_dtypes(include=['int64', 'float64']).columns\n",
        "\n",
        "for col in numeric_cols:\n",
        "    plt.figure()\n",
        "    plt.hist(df[col], bins=20)\n",
        "    plt.title(f'Histogram of {col}')\n",
        "    plt.xlabel(col)\n",
        "    plt.ylabel('Frequency')\n",
        "    plt.tight_layout()\n",
        "    plt.show()\n",
        "\n",
        "ex_count = df['Extracurricular Activities'].value_counts()\n",
        "\n",
        "plt.figure(figsize=(8, 6))\n",
        "plt.pie(\n",
        "    ex_count,\n",
        "    labels=ex_count.index,\n",
        "    autopct='%1.1f%%',\n",
        "    startangle=90,\n",
        "    colors=['#1f77b4', '#ff7f0e'],\n",
        "    explode= (0.05, 0),\n",
        "    shadow=True,\n",
        "    textprops={'fontsize': 10}\n",
        ")\n",
        "\n",
        "plt.title('Apakah murid mempunyai aktivitas ekstrakurikuler?', fontsize=12, pad=20)\n",
        "plt.axis('equal')\n",
        "\n",
        "plt.show()\n"
      ],
      "metadata": {
        "colab": {
          "base_uri": "https://localhost:8080/",
          "height": 1000
        },
        "id": "F5HUYJX73MTn",
        "outputId": "e4a5c98c-5b86-4046-ee29-6cdcaae5b6b9"
      },
      "execution_count": 7,
      "outputs": [
        {
          "output_type": "display_data",
          "data": {
            "text/plain": [
              "<Figure size 640x480 with 1 Axes>"
            ],
            "image/png": "[encoded data removed]"
          },
          "metadata": {}
        },
        {
          "output_type": "display_data",
          "data": {
            "text/plain": [
              "<Figure size 640x480 with 1 Axes>"
            ],
            "image/png": "[encoded data removed]"
          },
          "metadata": {}
        },
        {
          "output_type": "display_data",
          "data": {
            "text/plain": [
              "<Figure size 640x480 with 1 Axes>"
            ],
            "image/png": "[encoded data removed]"
          },
          "metadata": {}
        },
        {
          "output_type": "display_data",
          "data": {
            "text/plain": [
              "<Figure size 640x480 with 1 Axes>"
            ],
            "image/png": "[encoded data removed]"
          },
          "metadata": {}
        },
        {
          "output_type": "display_data",
          "data": {
            "text/plain": [
              "<Figure size 640x480 with 1 Axes>"
            ],
            "image/png": "[encoded data removed]"
          },
          "metadata": {}
        },
        {
          "output_type": "display_data",
          "data": {
            "text/plain": [
              "<Figure size 800x600 with 1 Axes>"
            ],
            "image/png": "[encoded data removed]"
          },
          "metadata": {}
        }
      ]
    },
    {
      "cell_type": "markdown",
      "source": [
        "Membuat dataframe sementara `df_encoded` untuk menyimpan encoding fitur kategorikal demi memplotting heatmap korelasi seluruh fitur"
      ],
      "metadata": {
        "id": "qYqlHoV86tGF"
      }
    },
    {
      "cell_type": "code",
      "source": [
        "df_encoded = pd.concat([\n",
        "    df[numeric_cols],\n",
        "    pd.get_dummies(df['Extracurricular Activities'], prefix='Extra Activities', drop_first=True)\n",
        "], axis=1)\n",
        "\n",
        "corr_all = df_encoded.corr()"
      ],
      "metadata": {
        "id": "HdrcMW5f6Ux1"
      },
      "execution_count": 8,
      "outputs": []
    },
    {
      "cell_type": "markdown",
      "source": [
        "Membuat heatmap untuk melihat korelasi antar seluruh fitur"
      ],
      "metadata": {
        "id": "fYl6vEoT1tbT"
      }
    },
    {
      "cell_type": "code",
      "source": [
        "all_cols = df_encoded.columns\n",
        "\n",
        "corr = df_encoded.corr()\n",
        "plt.figure()\n",
        "plt.imshow(corr, aspect='equal')\n",
        "plt.colorbar()\n",
        "plt.title('Heatmap Korelasi seluruh fitur')\n",
        "plt.xticks(range(len(all_cols)), all_cols, rotation=45, ha='right')\n",
        "plt.yticks(range(len(all_cols)), all_cols)\n",
        "plt.tight_layout()\n",
        "plt.show()"
      ],
      "metadata": {
        "colab": {
          "base_uri": "https://localhost:8080/",
          "height": 487
        },
        "id": "GbAZ7Zpoze8r",
        "outputId": "8a7ae1d6-2820-4930-c802-51617f6d6583"
      },
      "execution_count": 9,
      "outputs": [
        {
          "output_type": "display_data",
          "data": {
            "text/plain": [
              "<Figure size 640x480 with 2 Axes>"
            ],
            "image/png": "[encoded data removed]"
          },
          "metadata": {}
        }
      ]
    },
    {
      "cell_type": "markdown",
      "source": [
        "**Insight**\n",
        "- Dari korelasi antar fitur, terlihat bahwa `performance_index` memiliki korelasi cukup erat dengan total jam belajar (`Hours Studied`) dan nilai sebelumnya (`Previous Scores`)"
      ],
      "metadata": {
        "id": "9pDu7-XP7Jtd"
      }
    },
    {
      "cell_type": "markdown",
      "source": [
        "## Data preparation"
      ],
      "metadata": {
        "id": "3bQ0JO4jqtLr"
      }
    },
    {
      "cell_type": "markdown",
      "source": [
        "### Preprocessing"
      ],
      "metadata": {
        "id": "rXMtvYKwCbyN"
      }
    },
    {
      "cell_type": "markdown",
      "source": [
        "Kode di bawah ini adalah beberapa proses pengecekan data yaitu:\n",
        "1. Menghitung jumlah data null/ kosong dengan pemanggilan `df.isnull().sum()`\n",
        "2. Menghitung jumlah data duplikat dengan pemanggilan `df.duplicated().sum()`\n",
        "3. Mencari outlier dan mencatatnya pada set `outlier_indices` lalu dipanggil dengan\n",
        "```python\n",
        "print(f\"Jumlah outlier yang terdeteksi: {len(outlier_indices)}\")\n",
        "```"
      ],
      "metadata": {
        "id": "kgQYk2On-VcY"
      }
    },
    {
      "cell_type": "code",
      "source": [
        "print(\"Jumlah null pada dataframe:\")\n",
        "print(f\"\\n{df.isnull().sum()}\")\n",
        "\n",
        "print(f\"\\n\\nJumlah duplikat pada Student_Performance.csv: {df.duplicated().sum()}\")\n",
        "\n",
        "def detect_outlier_indices(series):\n",
        "    Q1 = series.quantile(0.25)\n",
        "    Q3 = series.quantile(0.75)\n",
        "    IQR = Q3 - Q1\n",
        "    lower_bound = Q1 - 1.5 * IQR\n",
        "    upper_bound = Q3 + 1.5 * IQR\n",
        "    return series[(series < lower_bound) | (series > upper_bound)].index\n",
        "\n",
        "numeric_cols = df.select_dtypes(include=['int64', 'float64']).columns\n",
        "outlier_indices = set()\n",
        "for col in numeric_cols:\n",
        "    outlier_indices.update(detect_outlier_indices(df[col]))\n",
        "\n",
        "print(f\"Jumlah outlier yang terdeteksi: {len(outlier_indices)}\")"
      ],
      "metadata": {
        "id": "yOtoyZ1HqtdC",
        "colab": {
          "base_uri": "https://localhost:8080/"
        },
        "outputId": "fe6d66f9-1ae8-4fe9-ac45-6c249930752c"
      },
      "execution_count": 10,
      "outputs": [
        {
          "output_type": "stream",
          "name": "stdout",
          "text": [
            "Jumlah null pada dataframe:\n",
            "\n",
            "Hours Studied                       0\n",
            "Previous Scores                     0\n",
            "Extracurricular Activities          0\n",
            "Sleep Hours                         0\n",
            "Sample Question Papers Practiced    0\n",
            "Performance Index                   0\n",
            "dtype: int64\n",
            "\n",
            "\n",
            "Jumlah duplikat pada Student_Performance.csv: 127\n",
            "Jumlah outlier yang terdeteksi: 0\n"
          ]
        }
      ]
    },
    {
      "cell_type": "markdown",
      "source": [
        "Kode di bawah adalah tahap penanganan data yang mencakup:\n",
        "1. Penghapusan data null dengan `df.dropna()` lalu pengecekan ulang dengan `df_isnull().sum()`.\n",
        "2. Penghapusan data duplikat dengan `df.drop_duplicates()` lalu pengecekan ulang dengan `df.duplicated().sum()`\n",
        "3. Penghapusan data outlier dengan `df.drop(outlier_indices)` lalu pengecekan ulang dengan `print(len(outlier_indices))`"
      ],
      "metadata": {
        "id": "2xP7r_0IJu_w"
      }
    },
    {
      "cell_type": "code",
      "source": [
        "df_unprocessed = df.copy()\n",
        "\n",
        "df.dropna(inplace=True)\n",
        "print(\"Jumlah null pada dataframe setelah drop:\")\n",
        "print(f\"\\n{df.isnull().sum()}\")\n",
        "\n",
        "df.drop_duplicates(inplace=True)\n",
        "print(f\"\\n\\nJumlah duplikat pada Student_Performance.csv setelah drop: {df.duplicated().sum()}\")\n",
        "\n",
        "df.drop(outlier_indices, inplace=True)\n",
        "print(f\"Jumlah outlier yang terdeteksi setelah drop: {len(outlier_indices)}\")"
      ],
      "metadata": {
        "colab": {
          "base_uri": "https://localhost:8080/"
        },
        "id": "xEtSNLvbDVvD",
        "outputId": "cc3224b1-1dc1-4a8c-9bd5-337622c5d6eb"
      },
      "execution_count": 11,
      "outputs": [
        {
          "output_type": "stream",
          "name": "stdout",
          "text": [
            "Jumlah null pada dataframe setelah drop:\n",
            "\n",
            "Hours Studied                       0\n",
            "Previous Scores                     0\n",
            "Extracurricular Activities          0\n",
            "Sleep Hours                         0\n",
            "Sample Question Papers Practiced    0\n",
            "Performance Index                   0\n",
            "dtype: int64\n",
            "\n",
            "\n",
            "Jumlah duplikat pada Student_Performance.csv setelah drop: 0\n",
            "Jumlah outlier yang terdeteksi setelah drop: 0\n"
          ]
        }
      ]
    },
    {
      "cell_type": "markdown",
      "source": [
        "**Insight:**\n",
        "- Terdapat beberapa data duplikat yang ditangani dengan drop duplicates\n",
        "- Tidak terdapat data null\n",
        "- Tidak terdapat data outlier"
      ],
      "metadata": {
        "id": "qJo6bNYg1ZOV"
      }
    },
    {
      "cell_type": "markdown",
      "source": [
        "### Data splitting & data preparation"
      ],
      "metadata": {
        "id": "_BqTxkyqCfLe"
      }
    },
    {
      "cell_type": "markdown",
      "source": [
        "split data menjadi dua bagian; data training 80% & data testing 20%"
      ],
      "metadata": {
        "id": "KnMT54ahDaTQ"
      }
    },
    {
      "cell_type": "code",
      "source": [
        "from sklearn.model_selection import train_test_split\n",
        "\n",
        "X = df.drop('Performance Index', axis=1)\n",
        "y = df['Performance Index']\n",
        "\n",
        "X_train, X_test, y_train, y_test = train_test_split(\n",
        "    X, y,\n",
        "    test_size=0.2,\n",
        "    random_state=42\n",
        ")"
      ],
      "metadata": {
        "id": "SNRhYj0GCWh8"
      },
      "execution_count": 12,
      "outputs": []
    },
    {
      "cell_type": "markdown",
      "source": [
        "Membangun pipeline `preprocessor` untuk scaling fitur numerik serta encoding fitur kategorikal"
      ],
      "metadata": {
        "id": "o06phO7TGFSj"
      }
    },
    {
      "cell_type": "code",
      "source": [
        "from sklearn.compose import ColumnTransformer\n",
        "from sklearn.preprocessing import OneHotEncoder, StandardScaler\n",
        "from sklearn.pipeline import Pipeline\n",
        "\n",
        "numeric_feats = ['Hours Studied','Previous Scores','Sleep Hours','Sample Question Papers Practiced']\n",
        "cat_feats     = ['Extracurricular Activities']\n",
        "\n",
        "preprocessor = ColumnTransformer([\n",
        "    ('num', StandardScaler(), numeric_feats),\n",
        "    ('cat', OneHotEncoder(drop='first'), cat_feats)\n",
        "])"
      ],
      "metadata": {
        "id": "wfSkqs8RGFkD"
      },
      "execution_count": 13,
      "outputs": []
    },
    {
      "cell_type": "markdown",
      "source": [
        "## Modeling"
      ],
      "metadata": {
        "id": "W3xNq1fmq6CA"
      }
    },
    {
      "cell_type": "markdown",
      "source": [
        "### Metrik Evaluasi\n",
        "\n",
        "Untuk mengukur performa model dalam proyek ini, digunakan dua metrik utama:\n",
        "\n",
        "#### 1. Mean Absolute Error (MAE)\n",
        "- MAE menghitung rata-rata kesalahan absolut antara nilai aktual ($y_i$) dan prediksi ($\\hat y_i$).\n",
        "- Metrik ini cocok untuk regresi karena memberikan estimasi seberapa jauh prediksi rata-rata model dari nilai sebenarnya, dalam satuan asli target.\n",
        "- MAE tidak terlalu sensitif terhadap outlier, sehingga memberikan penilaian yang lebih stabil.\n",
        "- Semakin rendah nilai MAE berarti semakin bagus karena rata-rata kesalahan lebih rendah\n",
        "\n",
        "**Formula MAE**:  \n",
        "$$\n",
        "{MAE} = \\frac{1}{n} \\sum_{i=1}^{n} \\bigl|y_i - \\hat y_i\\bigr|\n",
        "$$\n",
        "\n",
        "#### 2. Koefisien Determinasi (R²)\n",
        "- R² menunjukkan proporsi varians target yang berhasil dijelaskan oleh model.\n",
        "- Nilai R² berkisar antara 0 hingga 1, di mana 1 berarti model menjelaskan semua variasi data, dan 0 berarti tidak ada penjelasan sama sekali.\n",
        "- Metrik ini membantu menilai seberapa baik model menangkap pola data.\n",
        "\n",
        "**Formula R²**:  \n",
        "$$\n",
        "R^2 = 1 - \\frac{\\sum_{i=1}^{n} (y_i - \\hat y_i)^2}{\\sum_{i=1}^{n} (y_i - \\bar y)^2}\n",
        "$$\n"
      ],
      "metadata": {
        "id": "dYXXHyg6cZrh"
      }
    },
    {
      "cell_type": "markdown",
      "source": [
        "### 1. Linear Regression"
      ],
      "metadata": {
        "id": "ssYER8nWrw6r"
      }
    },
    {
      "cell_type": "markdown",
      "source": [
        "Proses training & evaluasi model:\n",
        "1. Membuat pipeline untuk model linear regression di mana terdapat tahap yang berisi pipeline `preprocessor` sebelumnya serta tahap regresinya\n",
        "2. Melakukan fitting pada data train\n",
        "3. Melakukan prediksi dengan data test lalu menghitung skor MAE dan R2\n",
        "4. `cv_mae_lr` adalah fungsi *cross validation* untuk menghasilkan skor rata-rata dari MAE pada tiap iterasi (5 iterasi) demi mengurangi variansi"
      ],
      "metadata": {
        "id": "_D9DSTShQmND"
      }
    },
    {
      "cell_type": "code",
      "source": [
        "from sklearn.linear_model import LinearRegression\n",
        "from sklearn.metrics import mean_absolute_error, r2_score\n",
        "from sklearn.model_selection import cross_val_score\n",
        "\n",
        "pipe_lr = Pipeline([\n",
        "    ('pre', preprocessor),\n",
        "    ('reg', LinearRegression())\n",
        "])\n",
        "\n",
        "pipe_lr.fit(X_train, y_train)\n",
        "\n",
        "y_pred_lr = pipe_lr.predict(X_test)\n",
        "print(\"LinearRegression — Test MAE: {:.3f}, R²: {:.3f}\".format(\n",
        "    mean_absolute_error(y_test, y_pred_lr),\n",
        "    r2_score(y_test, y_pred_lr)\n",
        "))\n",
        "\n",
        "cv_mae_lr = -cross_val_score(pipe_lr, X_train, y_train,\n",
        "                             cv=5, scoring='neg_mean_absolute_error', n_jobs=-1).mean()\n",
        "print(\"LinearRegression — CV MAE (5-fold): {:.3f}\".format(cv_mae_lr))\n"
      ],
      "metadata": {
        "id": "XJrCjk3eq6ce",
        "colab": {
          "base_uri": "https://localhost:8080/"
        },
        "outputId": "08482379-bef8-481e-a6f5-774826981cd3"
      },
      "execution_count": 14,
      "outputs": [
        {
          "output_type": "stream",
          "name": "stdout",
          "text": [
            "LinearRegression — Test MAE: 1.647, R²: 0.988\n",
            "LinearRegression — CV MAE (5-fold): 1.619\n"
          ]
        }
      ]
    },
    {
      "cell_type": "markdown",
      "source": [
        "### 2. Ridge Regression"
      ],
      "metadata": {
        "id": "zVsHrBf5rzf7"
      }
    },
    {
      "cell_type": "markdown",
      "source": [
        "Proses training & evaluasi model:\n",
        "1. Membuat pipeline untuk model ridge regression di mana terdapat tahap yang berisi pipeline `preprocessor` sebelumnya serta tahap regresi dengan pengubahan parameter `max_iter=5000`\n",
        "2. Mencari parameter terbaik untuk `alpha` dengan menguji beberapa input dalam array/grid dan mengambil model terbaik menggunakan `GridSearchCV()`bermetrik `neg_mean_absolute_error`\n",
        "3. Melakukan fitting untuk grid pada data train\n",
        "4. Melakukan prediksi dengan data test lalu menghitung dan menampilkan `alpha` terbaik dari tuning, skor MAE, R2, dan CV MAE"
      ],
      "metadata": {
        "id": "g_5ZYl8VRvbG"
      }
    },
    {
      "cell_type": "code",
      "source": [
        "from sklearn.linear_model import Ridge\n",
        "from sklearn.model_selection import GridSearchCV\n",
        "\n",
        "pipe_r = Pipeline([\n",
        "    ('pre', preprocessor),\n",
        "    ('reg', Ridge(max_iter=5000))\n",
        "])\n",
        "\n",
        "param_grid_r = {'reg__alpha': [0.1, 1, 10, 100]}\n",
        "\n",
        "grid_r = GridSearchCV(\n",
        "    pipe_r, param_grid_r,\n",
        "    cv=5,\n",
        "    scoring='neg_mean_absolute_error',\n",
        "    n_jobs=-1\n",
        ")\n",
        "grid_r.fit(X_train, y_train)\n",
        "\n",
        "best_ridge = grid_r.best_estimator_\n",
        "cv_mae_r = -grid_r.best_score_\n",
        "print(\"Ridge    — Best alpha:\", grid_r.best_params_['reg__alpha'])\n",
        "print(\"Ridge    — CV MAE: {:.3f}\".format(cv_mae_r))\n",
        "\n",
        "y_pred_r = best_ridge.predict(X_test)\n",
        "print(\"Ridge    — Test MAE: {:.3f}, R²: {:.3f}\".format(\n",
        "    mean_absolute_error(y_test, y_pred_r),\n",
        "    r2_score(y_test, y_pred_r)\n",
        "))"
      ],
      "metadata": {
        "id": "_ffWuLg1rwS7",
        "colab": {
          "base_uri": "https://localhost:8080/"
        },
        "outputId": "651df3a5-8d16-460e-8df1-26bd87be0f49"
      },
      "execution_count": 18,
      "outputs": [
        {
          "output_type": "stream",
          "name": "stdout",
          "text": [
            "Ridge    — Best alpha: 0.1\n",
            "Ridge    — CV MAE: 1.619\n",
            "Ridge    — Test MAE: 1.647, R²: 0.988\n"
          ]
        }
      ]
    },
    {
      "cell_type": "markdown",
      "source": [
        "### 3. Lasso Regression\n",
        "\n"
      ],
      "metadata": {
        "id": "l60PH6448y3s"
      }
    },
    {
      "cell_type": "markdown",
      "source": [
        "Proses training & evaluasi model:\n",
        "1. Membuat pipeline untuk model lasso regression di mana terdapat tahap yang berisi pipeline `preprocessor` sebelumnya serta tahap regresi dengan pengubahan parameter `max_iter=10000`\n",
        "2. Mencari parameter terbaik untuk `alpha` dengan menguji beberapa input dalam array/grid dan mengambil model terbaik menggunakan `GridSearchCV()`bermetrik `neg_mean_absolute_error`\n",
        "3. Melakukan fitting untuk grid pada data train\n",
        "4. Melakukan prediksi dengan data test lalu menghitung dan menampilkan `alpha` terbaik dari tuning, skor MAE, R2, dan CV MAE"
      ],
      "metadata": {
        "id": "KmkXT5s_fnq8"
      }
    },
    {
      "cell_type": "code",
      "source": [
        "from sklearn.linear_model import Lasso\n",
        "from sklearn.model_selection import GridSearchCV\n",
        "\n",
        "pipe_l = Pipeline([\n",
        "    ('pre', preprocessor),\n",
        "    ('reg', Lasso(max_iter=10000,))\n",
        "])\n",
        "\n",
        "param_grid_l = {'reg__alpha': [0.001, 0.01, 0.1, 1, 10]}\n",
        "\n",
        "grid_l = GridSearchCV(\n",
        "    pipe_l, param_grid_l,\n",
        "    cv=5,\n",
        "    scoring='neg_mean_absolute_error',\n",
        "    n_jobs=-1\n",
        ")\n",
        "grid_l.fit(X_train, y_train)\n",
        "\n",
        "best_lasso = grid_l.best_estimator_\n",
        "cv_mae_l = -grid_l.best_score_\n",
        "print(\"Lasso    — Best alpha:\", grid_l.best_params_['reg__alpha'])\n",
        "print(\"Lasso    — CV MAE: {:.3f}\".format(cv_mae_l))\n",
        "\n",
        "y_pred_l = best_lasso.predict(X_test)\n",
        "print(\"Lasso    — Test MAE: {:.3f}, R²: {:.3f}\".format(\n",
        "    mean_absolute_error(y_test, y_pred_l),\n",
        "    r2_score(y_test, y_pred_l)\n",
        "))"
      ],
      "metadata": {
        "colab": {
          "base_uri": "https://localhost:8080/"
        },
        "id": "LSB6ubB68zKq",
        "outputId": "ad90b18b-995b-4fef-b7e6-b5d5b7d40404"
      },
      "execution_count": 19,
      "outputs": [
        {
          "output_type": "stream",
          "name": "stdout",
          "text": [
            "Lasso    — Best alpha: 0.001\n",
            "Lasso    — CV MAE: 1.619\n",
            "Lasso    — Test MAE: 1.647, R²: 0.988\n"
          ]
        }
      ]
    },
    {
      "cell_type": "markdown",
      "source": [
        "## Evaluation"
      ],
      "metadata": {
        "id": "4TQKf3vhr6JI"
      }
    },
    {
      "cell_type": "markdown",
      "source": [
        "Merangkup hasil evaluasi dari ketiga model yang diuji dan menyimpannya pada `df_results` untuk dipanggil"
      ],
      "metadata": {
        "id": "pJXGhzih1jkl"
      }
    },
    {
      "cell_type": "code",
      "source": [
        "import pandas as pd\n",
        "\n",
        "df_results = pd.DataFrame([\n",
        "    ['Linear', mean_absolute_error(y_test, y_pred_lr), r2_score(y_test, y_pred_lr), cv_mae_lr],\n",
        "    ['Ridge',  mean_absolute_error(y_test, y_pred_r),  r2_score(y_test, y_pred_r),  cv_mae_r],\n",
        "    ['Lasso',  mean_absolute_error(y_test, y_pred_l),  r2_score(y_test, y_pred_l),  cv_mae_l]\n",
        "], columns=['Model','Test MAE','Test R2','CV MAE']).set_index('Model')\n",
        "\n",
        "print(df_results)"
      ],
      "metadata": {
        "colab": {
          "base_uri": "https://localhost:8080/"
        },
        "id": "XQCj-_amI-wQ",
        "outputId": "27211a31-0abd-4b85-de4e-98f49df1103f"
      },
      "execution_count": 20,
      "outputs": [
        {
          "output_type": "stream",
          "name": "stdout",
          "text": [
            "        Test MAE   Test R2    CV MAE\n",
            "Model                               \n",
            "Linear  1.646970  0.988430  1.618631\n",
            "Ridge   1.646969  0.988430  1.618631\n",
            "Lasso   1.647110  0.988428  1.618629\n"
          ]
        }
      ]
    },
    {
      "cell_type": "markdown",
      "source": [
        "**Insight:**\n",
        "- Perbandingan antar ketiga model tidak menunjukkan perbedaan yang signifikan, ini menunjukkan ketiga model regresi tersebut setara dalam performa. Namun jika kita ingin lebih teliti model **Ridge** memiliki skor Mean Absolut Error (MAE) yang paling rendah, sehingga model **Ridge** dapat disimpulkan sebagai model yang paling efektif untuk digunakan\n",
        "\n",
        "- Skor MAE dari hasil Cross Validation tidak digunakan untuk menggambarkan contoh nyata ketika model dideploy. CV MAE hanya digunakan untuk pengecekan overfitting jika skor CV MAE lebih tinggi dibanding skor MAE"
      ],
      "metadata": {
        "id": "peay_OGYTJBw"
      }
    },
    {
      "cell_type": "markdown",
      "source": [
        "Menguji *feature importance* untuk melihat fitur yang paling berkontribusi pada model terbaik:\n",
        "1. Memanggil pipeline model ridge regression untuk mengambil koefisiennya\n",
        "2. Menyimpan koefisien pada dataframe baru `coef_df`\n",
        "3. Hitung kontribusi relatif masing-masing koefisien dan menyimpannya ke bentuk %\n",
        "4. Urutkan baris fitur berdasarkan kontribusi tertinggi\n",
        "5. Cetak hasil"
      ],
      "metadata": {
        "id": "JpUM4hm9SgJb"
      }
    },
    {
      "cell_type": "code",
      "source": [
        "import pandas as pd\n",
        "from sklearn.metrics import mean_absolute_error, r2_score\n",
        "\n",
        "best_ridge = grid_r.best_estimator_\n",
        "\n",
        "model = best_ridge.named_steps['reg']\n",
        "pre   = best_ridge.named_steps['pre']\n",
        "\n",
        "numeric_feats = ['Hours Studied', 'Previous Scores', 'Sleep Hours', 'Sample Question Papers Practiced']\n",
        "cat_feats     = ['Extracurricular Activities']\n",
        "onehot        = pre.named_transformers_['cat']\n",
        "cat_columns   = onehot.get_feature_names_out(cat_feats)\n",
        "feature_names = numeric_feats + list(cat_columns)\n",
        "\n",
        "coefs = model.coef_\n",
        "\n",
        "coef_df = pd.DataFrame({\n",
        "    'Feature': feature_names,\n",
        "    'Coefficient': coefs\n",
        "})\n",
        "\n",
        "coef_df['AbsCoef'] = coef_df['Coefficient'].abs()\n",
        "total = coef_df['AbsCoef'].sum()\n",
        "coef_df['Contribution (%)'] = coef_df['AbsCoef'] / total * 100\n",
        "\n",
        "coef_df = coef_df.sort_values('Contribution (%)', ascending=False)\n",
        "\n",
        "print(\"\\nRidge Feature Importance (relative contribution):\")\n",
        "for _, row in coef_df.iterrows():\n",
        "    print(f\"- {row.Feature:30s}: {row['Contribution (%)']:5.1f}% (coef = {row.Coefficient:.3f})\")\n"
      ],
      "metadata": {
        "colab": {
          "base_uri": "https://localhost:8080/"
        },
        "id": "HRNzVXNGR8cx",
        "outputId": "6e5aac2e-6bfd-4eb2-cf7b-993c00905b96"
      },
      "execution_count": 22,
      "outputs": [
        {
          "output_type": "stream",
          "name": "stdout",
          "text": [
            "\n",
            "Ridge Feature Importance (relative contribution):\n",
            "- Previous Scores               :  65.5% (coef = 17.620)\n",
            "- Hours Studied                 :  27.4% (coef = 7.373)\n",
            "- Sleep Hours                   :   3.0% (coef = 0.802)\n",
            "- Extracurricular Activities_Yes:   2.1% (coef = 0.574)\n",
            "- Sample Question Papers Practiced:   2.0% (coef = 0.540)\n"
          ]
        }
      ]
    },
    {
      "cell_type": "markdown",
      "source": [
        "**Insight:**\n",
        "- Pengujian feature importance di atas menunjukkan bahwa nilai sebelumnya (`previous scores`) memiliki dampak terbesar terhadap index performa siswa, begitu pula total jam belajar (`Hours Studied`) dengan koefisien 27.4%"
      ],
      "metadata": {
        "id": "bqfCDiQmUIT8"
      }
    },
    {
      "cell_type": "markdown",
      "source": [
        "## Conclusion"
      ],
      "metadata": {
        "id": "aSX641FgUxWv"
      }
    },
    {
      "cell_type": "markdown",
      "source": [
        "## Goals\n",
        "\n",
        "* Membangun satu pipeline regresi yang mencakup pra-pemrosesan (encoding & scaling), pelatihan, dan validasi menggunakan cross-validation. ✅\n",
        "* Mencapai metrik **MAE ≤ 5.0** pada test set. ✅\n",
        "* Menginterpretasi koefisien dan signifikansi fitur ✅\n",
        "\n",
        "---\n",
        "\n",
        "## Results\n",
        "\n",
        "Berdasarkan **evaluasi test set**:\n",
        "\n",
        "| Model             | Test MAE | Test R² | CV MAE |\n",
        "| ----------------- | -------- | ------- | -------|\n",
        "| Linear Regression | 1.646    | 0.988   | 1.618  |\n",
        "| Ridge Regression  | 1.646    | 0.988   | 1.618  |\n",
        "| Lasso Regression  | 1.647    | 0.988   | 1.618  |\n",
        "\n",
        "- Semua model memberikan performa yang sangat mirip, dengan **MAE ≈ 1.65** dan **R² ≈ 0.988**.\n",
        "- **Linear Regression** sudah mampu menangkap pola linier data dengan sangat baik tanpa regularisasi tambahan.\n",
        "- **Ridge Regression** pilihan terbaik secara teknis, karena memberikan perfoma paling stabil, meskipun sangat tipis lebih baik daripada Linear.\n",
        "- **Lasso Regression** bisa menyederhanakan model dengan meng-nol-kan fitur, tapi tidak terjadi dalam kasus ini (karena semua fitur cukup relevan).\n",
        "\n",
        "**Analisis Koefisien (Ridge Regression):**\n",
        "\n",
        "| Feature                          | Contribution (%) | Coefficient |\n",
        "| -------------------------------- | ---------------- | ----------- |\n",
        "| Previous Scores                  | 65.5%            | 17.620      |\n",
        "| Hours Studied                    | 27.4%            | 7.373       |\n",
        "| Sleep Hours                      | 3.0%             | 0.802       |\n",
        "| Extracurricular Activities (Yes) | 2.1%             | 0.574       |\n",
        "| Sample Question Papers Practiced | 2.0%             | 0.540       |\n",
        "\n",
        "* **Prediksi kuat** didorong oleh `Previous Scores` dan `Hours Studied` (total >92% kontribusi).\n",
        "* Fitur lain memberikan kontribusi positif kecil, termasuk `extracurricular_activities`.\n",
        "\n",
        "---\n",
        "\n",
        "## Solusi setelah analisis\n",
        "\n",
        "1. **Prediksi Performance Index**: Model **Ridge Regression** memenuhi target MAE ≤ 5.0 dengan skor terendah MAE ≈ 1.65 dan R² ≈ 0.988.\n",
        "2. **Algoritma Terbaik**: Ketiga algoritma (Linear, Ridge, Lasso) memiliki performa setara, sehingga Linear Regression dipilih karena kesederhanaan dan interpretabilitas.\n",
        "3. **Rekomendasi**: Berdasarkan koefisien, peningkatan **Previous Scores** dan **Hours Studied** adalah strategi paling efektif untuk menaikkan skor siswa.\n",
        "\n",
        "Model ini siap digunakan sebagai alat bantu keputusan untuk intervensi akademik di lembaga pendidikan.\n"
      ],
      "metadata": {
        "id": "4w3r2oHsU2An"
      }
    }
  ]
}